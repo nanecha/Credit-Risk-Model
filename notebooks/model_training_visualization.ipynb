{
 "cells": [
  {
   "cell_type": "markdown",
   "id": "b2824a93",
   "metadata": {},
   "source": [
    "# Task 5 - Model Training and Tracking"
   ]
  },
  {
   "cell_type": "code",
   "execution_count": 1,
   "id": "0d71373c",
   "metadata": {},
   "outputs": [],
   "source": [
    "# Install required packages\n",
    "import pandas as pd\n",
    "import mlflow\n",
    "import matplotlib.pyplot as plt\n",
    "from imblearn.over_sampling import SMOTE"
   ]
  },
  {
   "cell_type": "markdown",
   "id": "f78c32d0",
   "metadata": {},
   "source": [
    "## module calling "
   ]
  },
  {
   "cell_type": "code",
   "execution_count": 2,
   "id": "99c97cad",
   "metadata": {},
   "outputs": [],
   "source": [
    "# Add the parent directory to the system path\n",
    "import sys\n",
    "import os\n",
    "sys.path.append(os.path.abspath(os.path.join(os.getcwd(), '..')))\n",
    "from src.train import ModelTrainer"
   ]
  },
  {
   "cell_type": "markdown",
   "id": "22021708",
   "metadata": {},
   "source": [
    "## loading of Transformed data in Task-4"
   ]
  },
  {
   "cell_type": "code",
   "execution_count": 3,
   "id": "05866f14",
   "metadata": {},
   "outputs": [],
   "source": [
    "\n",
    "# Load transformed data\n",
    "data = pd.read_csv('F:/Credit-Risk-Model/data/processed/Transformedfinal_data.csv')\n"
   ]
  },
  {
   "cell_type": "markdown",
   "id": "c2ee80bf",
   "metadata": {},
   "source": [
    "## Check for Variable distribution"
   ]
  },
  {
   "cell_type": "code",
   "execution_count": 4,
   "id": "a567bfb4",
   "metadata": {},
   "outputs": [
    {
     "name": "stdout",
     "output_type": "stream",
     "text": [
      "Target variable distribution:\n",
      "is_high_risk\n",
      "0.0    0.617317\n",
      "1.0    0.382683\n",
      "Name: proportion, dtype: float64\n"
     ]
    }
   ],
   "source": [
    "# Check target variable distribution\n",
    "print(\"Target variable distribution:\")\n",
    "print(data['is_high_risk'].value_counts(normalize=True))"
   ]
  },
  {
   "cell_type": "code",
   "execution_count": 5,
   "id": "a1769110",
   "metadata": {},
   "outputs": [
    {
     "name": "stdout",
     "output_type": "stream",
     "text": [
      "Columns in dataset: ['TransactionId', 'BatchId', 'AccountId', 'SubscriptionId', 'CustomerId', 'CountryCode', 'ProviderId', 'ProductId', 'ChannelId', 'Amount', 'Value', 'PricingStrategy', 'total_amount_x', 'avg_amount_x', 'trans_count_x', 'std_amount_x', 'ProductCategory_data_bundles', 'ProductCategory_financial_services', 'ProductCategory_movies', 'ProductCategory_other', 'ProductCategory_ticket', 'ProductCategory_transport', 'ProductCategory_tv', 'ProductCategory_utility_bill', 'total_amount_y', 'avg_amount_y', 'trans_count_y', 'std_amount_y', 'FraudResult', 'Recency', 'Frequency', 'Monetary', 'Cluster', 'is_high_risk']\n"
     ]
    }
   ],
   "source": [
    "# Check for RFM columns\n",
    "print(\"Columns in dataset:\", data.columns.tolist())"
   ]
  },
  {
   "cell_type": "code",
   "execution_count": 8,
   "id": "017c05cc",
   "metadata": {},
   "outputs": [],
   "source": [
    "# Drop rows where the target column is NaN\n",
    "data = data.dropna(subset=['is_high_risk'])"
   ]
  },
  {
   "cell_type": "markdown",
   "id": "7d6e2b7c",
   "metadata": {},
   "source": [
    "## Model initialization"
   ]
  },
  {
   "cell_type": "code",
   "execution_count": 9,
   "id": "7ce96915",
   "metadata": {},
   "outputs": [],
   "source": [
    "#Initialize ModelTrainer\n",
    "trainer = ModelTrainer()\n"
   ]
  },
  {
   "cell_type": "markdown",
   "id": "a8439db5",
   "metadata": {},
   "source": [
    "## spliting of Dataset"
   ]
  },
  {
   "cell_type": "code",
   "execution_count": 10,
   "id": "3eabba17",
   "metadata": {},
   "outputs": [
    {
     "name": "stdout",
     "output_type": "stream",
     "text": [
      "Test set size: 1123, Positive cases: 430.0\n"
     ]
    }
   ],
   "source": [
    "\n",
    "# Split data\n",
    "X_train, X_test, y_train, y_test = trainer.split_data(data, target_col='is_high_risk')\n",
    "\n",
    "# Check test set\n",
    "print(f\"Test set size: {len(y_test)}, Positive cases: {sum(y_test)}\")"
   ]
  },
  {
   "cell_type": "markdown",
   "id": "fd2b4029",
   "metadata": {},
   "source": [
    "# Training and HyperParameter Tuning"
   ]
  },
  {
   "cell_type": "code",
   "execution_count": 11,
   "id": "f29f19dd",
   "metadata": {},
   "outputs": [
    {
     "name": "stderr",
     "output_type": "stream",
     "text": [
      "2025/07/04 18:23:17 WARNING mlflow.utils.git_utils: Failed to import Git (the Git executable is probably not on your PATH), so Git SHA is not available. Error: Failed to initialize: Bad git executable.\n",
      "The git executable must be specified in one of the following ways:\n",
      "    - be included in your $PATH\n",
      "    - be set via $GIT_PYTHON_GIT_EXECUTABLE\n",
      "    - explicitly set via git.refresh(<full-path-to-git-executable>)\n",
      "\n",
      "All git commands will error until this is rectified.\n",
      "\n",
      "This initial message can be silenced or aggravated in the future by setting the\n",
      "$GIT_PYTHON_REFRESH environment variable. Use one of the following values:\n",
      "    - quiet|q|silence|s|silent|none|n|0: for no message or exception\n",
      "    - warn|w|warning|log|l|1: for a warning message (logging level CRITICAL, displayed by default)\n",
      "    - error|e|exception|raise|r|2: for a raised exception\n",
      "\n",
      "Example:\n",
      "    export GIT_PYTHON_REFRESH=quiet\n",
      "\n",
      "2025/07/04 18:24:22 WARNING mlflow.models.model: `artifact_path` is deprecated. Please use `name` instead.\n",
      "2025/07/04 18:27:55 WARNING mlflow.utils.environment: Encountered an unexpected error while inferring pip requirements (model URI: C:\\Users\\user\\AppData\\Local\\Temp\\tmpog0or75l\\model\\model.pkl, flavor: sklearn). Fall back to return ['scikit-learn==1.6.1', 'cloudpickle==3.1.1']. Set logging level to DEBUG to see the full traceback. \n",
      "Successfully registered model 'RandomForest'.\n",
      "Created version '1' of model 'RandomForest'.\n"
     ]
    },
    {
     "name": "stdout",
     "output_type": "stream",
     "text": [
      "RandomForest Metrics: {'accuracy': 0.5031166518254675, 'precision': 0.372, 'recall': 0.4325581395348837, 'f1': 0.4, 'roc_auc': np.float64(0.4938823450451358)}\n",
      "RandomForest Best Params: {'max_depth': 10, 'min_samples_split': 2, 'n_estimators': 200}\n"
     ]
    },
    {
     "name": "stderr",
     "output_type": "stream",
     "text": [
      "2025/07/04 18:29:44 WARNING mlflow.models.model: `artifact_path` is deprecated. Please use `name` instead.\n"
     ]
    },
    {
     "name": "stdout",
     "output_type": "stream",
     "text": [
      "GradientBoosting Metrics: {'accuracy': 0.4541406945681211, 'precision': 0.36281859070464767, 'recall': 0.5627906976744186, 'f1': 0.4412032816773017, 'roc_auc': np.float64(0.48536528071411794)}\n",
      "GradientBoosting Best Params: {'learning_rate': 0.01, 'max_depth': 5, 'n_estimators': 100}\n"
     ]
    },
    {
     "name": "stderr",
     "output_type": "stream",
     "text": [
      "Successfully registered model 'GradientBoosting'.\n",
      "Created version '1' of model 'GradientBoosting'.\n"
     ]
    }
   ],
   "source": [
    "# Train and tune models\n",
    "results = trainer.train_and_tune(X_train, y_train, X_test, y_test, experiment_name=\"CreditRiskExperiment\")"
   ]
  },
  {
   "cell_type": "markdown",
   "id": "f09fa89f",
   "metadata": {},
   "source": [
    "## Visualization of Models "
   ]
  },
  {
   "cell_type": "code",
   "execution_count": 12,
   "id": "905716d7",
   "metadata": {},
   "outputs": [
    {
     "name": "stdout",
     "output_type": "stream",
     "text": [
      "Model Performance Metrics:\n",
      "                  accuracy  precision    recall        f1   roc_auc\n",
      "RandomForest      0.503117   0.372000  0.432558  0.400000  0.493882\n",
      "GradientBoosting  0.454141   0.362819  0.562791  0.441203  0.485365\n"
     ]
    }
   ],
   "source": [
    "# Visualize results\n",
    "metrics_df = pd.DataFrame({\n",
    "    model_name: result['metrics'] for model_name, result in results.items()\n",
    "}).T\n",
    "print(\"Model Performance Metrics:\")\n",
    "print(metrics_df)"
   ]
  },
  {
   "cell_type": "code",
   "execution_count": 14,
   "id": "73eb8ef6",
   "metadata": {},
   "outputs": [
    {
     "data": {
      "image/png": "[encoded data removed]",
      "text/plain": [
       "<Figure size 1000x600 with 1 Axes>"
      ]
     },
     "metadata": {},
     "output_type": "display_data"
    }
   ],
   "source": [
    "\n",
    "# Plot metrics\n",
    "metrics_df.plot(kind='bar', figsize=(10, 6))\n",
    "plt.title('Model Performance Comparison')\n",
    "plt.ylabel('Score')\n",
    "plt.xticks(rotation=45)\n",
    "plt.tight_layout()\n",
    "plt.savefig('F:/Credit-Risk-Model/data/model_performance.png')\n",
    "plt.show()\n",
    "\n"
   ]
  },
  {
   "cell_type": "markdown",
   "id": "d2b3233d",
   "metadata": {},
   "source": [
    "# keeping Best Model For prediction "
   ]
  },
  {
   "cell_type": "code",
   "execution_count": 15,
   "id": "b58ed0f4",
   "metadata": {},
   "outputs": [
    {
     "name": "stderr",
     "output_type": "stream",
     "text": [
      "2025/07/04 18:53:47 WARNING mlflow.models.model: `artifact_path` is deprecated. Please use `name` instead.\n",
      "Registered model 'GradientBoosting' already exists. Creating a new version of this model...\n",
      "Created version '2' of model 'GradientBoosting'.\n",
      "Registered model 'GradientBoosting' already exists. Creating a new version of this model...\n",
      "2025/07/04 18:53:58 WARNING mlflow.tracking._model_registry.fluent: Run with id 2828c2eb422740d386fc5acbb797021d has no artifacts at artifact path 'GradientBoosting', registering model based on models:/m-2d39dbc46af6452998fc20e77979509d instead\n"
     ]
    },
    {
     "name": "stdout",
     "output_type": "stream",
     "text": [
      "Registered GradientBoosting in MLflow Model Registry\n"
     ]
    },
    {
     "name": "stderr",
     "output_type": "stream",
     "text": [
      "Created version '3' of model 'GradientBoosting'.\n"
     ]
    }
   ],
   "source": [
    "# Register best model\n",
    "if trainer.best_model:\n",
    "    with mlflow.start_run(run_name=f\"Best_Model_{trainer.best_model_name}\"):\n",
    "        input_example = X_train.head(1)\n",
    "        mlflow.sklearn.log_model(\n",
    "            sk_model=trainer.best_model,\n",
    "            artifact_path=trainer.best_model_name,\n",
    "            registered_model_name=trainer.best_model_name,\n",
    "            input_example=input_example\n",
    "        )\n",
    "        run_id = mlflow.active_run().info.run_id\n",
    "        trainer.register_best_model(trainer.best_model_name, trainer.best_model, run_id)"
   ]
  }
 ],
 "metadata": {
  "kernelspec": {
   "display_name": ".venv",
   "language": "python",
   "name": "python3"
  },
  "language_info": {
   "codemirror_mode": {
    "name": "ipython",
    "version": 3
   },
   "file_extension": ".py",
   "mimetype": "text/x-python",
   "name": "python",
   "nbconvert_exporter": "python",
   "pygments_lexer": "ipython3",
   "version": "3.12.0"
  }
 },
 "nbformat": 4,
 "nbformat_minor": 5
}
