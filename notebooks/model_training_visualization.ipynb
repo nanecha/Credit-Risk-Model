{
 "cells": [
  {
   "cell_type": "markdown",
   "id": "b2824a93",
   "metadata": {},
   "source": [
    "# Task 5 - Model Training and Tracking"
   ]
  },
  {
   "cell_type": "code",
   "execution_count": 1,
   "id": "0d71373c",
   "metadata": {},
   "outputs": [],
   "source": [
    "# Install required packages\n",
    "import pandas as pd\n",
    "import mlflow\n",
    "import matplotlib.pyplot as plt"
   ]
  },
  {
   "cell_type": "code",
   "execution_count": null,
   "id": "99c97cad",
   "metadata": {},
   "outputs": [],
   "source": [
    "# Add the parent directory to the system path\n",
    "import sys\n",
    "import os\n",
    "sys.path.append(os.path.abspath(os.path.join(os.getcwd(), '..')))\n",
    "from src.train import ModelTrainer"
   ]
  },
  {
   "cell_type": "code",
   "execution_count": null,
   "id": "05866f14",
   "metadata": {},
   "outputs": [],
   "source": [
    "\n",
    "# Load transformed data\n",
    "data = pd.read_csv('F:/Credit-Risk-Model/data/processed/transformed_data_for_training.csv')\n"
   ]
  },
  {
   "cell_type": "code",
   "execution_count": null,
   "id": "4ba574b2",
   "metadata": {},
   "outputs": [],
   "source": [
    " Initialize ModelTrainer\n",
    "trainer = ModelTrainer()\n",
    "\n",
    "# Split data\n",
    "X_train, X_test, y_train, y_test = trainer.split_data(data, target_col='is_high_risk')\n",
    "\n",
    "# Train and tune models\n",
    "results = trainer.train_and_tune(X_train, y_train, X_test, y_test, experiment_name=\"CreditRiskExperiment\")\n"
   ]
  },
  {
   "cell_type": "code",
   "execution_count": null,
   "id": "65bf1020",
   "metadata": {},
   "outputs": [],
   "source": [
    "# Visualize results\n",
    "metrics_df = pd.DataFrame({\n",
    "    model_name: result['metrics'] for model_name, result in results.items()\n",
    "}).T\n",
    "print(\"Model Performance Metrics:\")\n",
    "print(metrics_df)"
   ]
  },
  {
   "cell_type": "code",
   "execution_count": null,
   "id": "73eb8ef6",
   "metadata": {},
   "outputs": [],
   "source": [
    "\n",
    "# Plot metrics\n",
    "metrics_df.plot(kind='bar', figsize=(10, 6))\n",
    "plt.title('Model Performance Comparison')\n",
    "plt.ylabel('Score')\n",
    "plt.xticks(rotation=45)\n",
    "plt.tight_layout()\n",
    "plt.savefig('F:/Credit-Risk-Model/results/model_performance.png')\n",
    "plt.show()\n",
    "\n"
   ]
  },
  {
   "cell_type": "code",
   "execution_count": null,
   "id": "9845a4f2",
   "metadata": {},
   "outputs": [],
   "source": [
    "# Register best model\n",
    "if trainer.best_model:\n",
    "    with mlflow.start_run(run_name=f\"Best_Model_{trainer.best_model_name}\"):\n",
    "        mlflow.sklearn.log_model(trainer.best_model, trainer.best_model_name)\n",
    "        run_id = mlflow.active_run().info.run_id\n",
    "        trainer.register_best_model(trainer.best_model_name, trainer.best_model, run_id)"
   ]
  },
  {
   "cell_type": "code",
   "execution_count": null,
   "id": "3f5d7e6a",
   "metadata": {},
   "outputs": [],
   "source": [
    " Load transformed data\n",
    "    data = pd.read_csv(\n",
    "        'F:/Credit-Risk-Model/data/processed/transformed_data_for_training.csv')\n",
    "\n",
    "    # Initialize trainer\n",
    "    trainer = ModelTrainer()\n",
    "\n",
    "    # Split data\n",
    "    X_train, X_test, y_train, y_test = trainer.split_data(\n",
    "        data, target_col='is_high_risk')\n",
    "\n",
    "    # Train and tune models\n",
    "    results = trainer.train_and_tune(X_train, y_train, X_test, y_test)\n",
    "\n",
    "    # Register best model\n",
    "    if trainer.best_model:\n",
    "        with mlflow.start_run(run_name=f\"Best_Model_{\n",
    "            trainer.best_model_name}\"\n",
    "        ):\n",
    "            mlflow.sklearn.log_model(\n",
    "                trainer.best_model, trainer.best_model_name)\n",
    "            run_id = mlflow.active_run().info.run_id\n",
    "            trainer.register_best_model(\n",
    "                trainer.best_model_name, trainer.best_model, run_id)\n"
   ]
  }
 ],
 "metadata": {
  "kernelspec": {
   "display_name": ".venv",
   "language": "python",
   "name": "python3"
  },
  "language_info": {
   "codemirror_mode": {
    "name": "ipython",
    "version": 3
   },
   "file_extension": ".py",
   "mimetype": "text/x-python",
   "name": "python",
   "nbconvert_exporter": "python",
   "pygments_lexer": "ipython3",
   "version": "3.12.0"
  }
 },
 "nbformat": 4,
 "nbformat_minor": 5
}
